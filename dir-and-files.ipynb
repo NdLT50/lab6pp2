{
 "cells": [
  {
   "cell_type": "markdown",
   "metadata": {},
   "source": [
    "1.Write a Python program to list only directories, files and all directories, files in a specified path.\n",
    "2.Write a Python program to check for access to a specified path. Test the existence, readability, writability and executability of the specified path\n",
    "3.Write a Python program to test whether a given path exists or not. If the path exist find the filename and directory portion of the given path.\n",
    "4.Write a Python program to count the number of lines in a text file.\n",
    "5.Write a Python program to write a list to a file.\n",
    "6.Write a Python program to generate 26 text files named A.txt, B.txt, and so on up to Z.txt\n",
    "7.Write a Python program to copy the contents of a file to another file\n",
    "8.Write a Python program to delete file by specified path. Before deleting check for access and whether a given path exists or not."
   ]
  },
  {
   "cell_type": "code",
   "execution_count": 2,
   "metadata": {},
   "outputs": [
    {
     "name": "stdout",
     "output_type": "stream",
     "text": [
      "Directories: ['__pycache__']\n",
      "Files: ['Financial data 1.xlsm', 'greeting.py', 'main.py']\n",
      "All Contents: ['Financial data 1.xlsm', 'greeting.py', 'main.py', '__pycache__']\n"
     ]
    }
   ],
   "source": [
    "import os\n",
    "\n",
    "def list_contents(path):\n",
    "    print(\"Directories:\", [d for d in os.listdir(path) if os.path.isdir(os.path.join(path, d))])\n",
    "    print(\"Files:\", [f for f in os.listdir(path) if os.path.isfile(os.path.join(path, f))])\n",
    "    print(\"All Contents:\", os.listdir(path))\n",
    "\n",
    "path = input(\"Enter the directory path: \")\n",
    "list_contents(path)\n"
   ]
  },
  {
   "cell_type": "code",
   "execution_count": null,
   "metadata": {},
   "outputs": [
    {
     "name": "stdout",
     "output_type": "stream",
     "text": [
      "Exists: True\n",
      "Readable: True\n",
      "Writable: True\n",
      "Executable: True\n"
     ]
    }
   ],
   "source": [
    "import os\n",
    "def check_access(path):\n",
    "    print(\"Exists:\", os.path.exists(path))\n",
    "    print(\"Readable:\", os.access(path, os.R_OK))\n",
    "    print(\"Writable:\", os.access(path, os.W_OK))\n",
    "    print(\"Executable:\", os.access(path, os.X_OK))\n",
    "\n",
    "path = input(\"Enter the path to check: \")\n",
    "check_access(path)\n"
   ]
  },
  {
   "cell_type": "code",
   "execution_count": 4,
   "metadata": {},
   "outputs": [
    {
     "name": "stdout",
     "output_type": "stream",
     "text": [
      "Path exists.\n",
      "Directory: C:\\Users\\Nurdaulet\\Documents\n",
      "Filename: lab1 ICT\n"
     ]
    }
   ],
   "source": [
    "import os\n",
    "def check_path(path):\n",
    "    if os.path.exists(path):\n",
    "        print(\"Path exists.\")\n",
    "        print(\"Directory:\", os.path.dirname(path))\n",
    "        print(\"Filename:\", os.path.basename(path))\n",
    "    else:\n",
    "        print(\"Path does not exist.\")\n",
    "\n",
    "path = input(\"Enter the file or directory path: \")\n",
    "check_path(path)"
   ]
  },
  {
   "cell_type": "code",
   "execution_count": 6,
   "metadata": {},
   "outputs": [
    {
     "name": "stdout",
     "output_type": "stream",
     "text": [
      "Number of lines: 8\n"
     ]
    }
   ],
   "source": [
    "def count_lines(filename):\n",
    "    with open(filename, 'r') as file:\n",
    "        return sum(1 for _ in file)\n",
    "    \n",
    "filename = input(\"Enter the file name: \")\n",
    "print(\"Number of lines:\", count_lines(filename))\n",
    "#we used text.txt as a file \n"
   ]
  },
  {
   "cell_type": "code",
   "execution_count": 11,
   "metadata": {},
   "outputs": [
    {
     "name": "stdout",
     "output_type": "stream",
     "text": [
      "List written to file.\n"
     ]
    }
   ],
   "source": [
    "def write_list_to_file(filename, data_list):\n",
    "    with open(filename, 'w') as file:\n",
    "        for item in data_list:\n",
    "            file.write(str(item) + '\\n')\n",
    "\n",
    "data = [\"Hello\", \"World\", \"Python\", \"LAB6\"]\n",
    "filename = \"output.txt\"\n",
    "write_list_to_file(filename, data)\n",
    "print(\"List written to file.\")"
   ]
  },
  {
   "cell_type": "code",
   "execution_count": null,
   "metadata": {},
   "outputs": [],
   "source": [
    "import string\n",
    "\n",
    "def generate_files():\n",
    "    for letter in string.ascii_uppercase:\n",
    "        with open(f\"{letter}.txt\", 'w') as file:\n",
    "            file.write(f\"This is {letter}.txt\")\n",
    "\n",
    "generate_files()\n",
    "print(\"26 text files created (A.txt to Z.txt).\")"
   ]
  },
  {
   "cell_type": "code",
   "execution_count": null,
   "metadata": {},
   "outputs": [
    {
     "name": "stdout",
     "output_type": "stream",
     "text": [
      "Copied contents from text.txt to outp.txt\n"
     ]
    }
   ],
   "source": [
    "def copy_file(src, dest):\n",
    "    with open(src, \"rb\") as source, open(dest, \"wb\") as dst:\n",
    "        dst.write(source.read())\n",
    "    print(f\"Copied contents from {src} to {dest}\")\n",
    "\n",
    "source = input(\"Enter source file: \")\n",
    "destination = input(\"Enter destination file: \")\n",
    "copy_file(source, destination)"
   ]
  },
  {
   "cell_type": "code",
   "execution_count": 12,
   "metadata": {},
   "outputs": [
    {
     "name": "stdout",
     "output_type": "stream",
     "text": [
      "File C:\\Users\\Nurdaulet\\Desktop\\lab6pp2\\output.txt deleted.\n"
     ]
    }
   ],
   "source": [
    "import os\n",
    "\n",
    "def delete_file(filepath):\n",
    "    if os.path.exists(filepath):\n",
    "        if os.access(filepath, os.W_OK):\n",
    "            os.remove(filepath)\n",
    "            print(f\"File {filepath} deleted.\")\n",
    "        else:\n",
    "            print(\"No permission to delete the file.\")\n",
    "    else:\n",
    "        print(\"File does not exist.\")\n",
    "\n",
    "file = input(\"Enter the file path to delete: \")\n",
    "delete_file(file)"
   ]
  },
  {
   "cell_type": "code",
   "execution_count": null,
   "metadata": {},
   "outputs": [],
   "source": []
  }
 ],
 "metadata": {
  "kernelspec": {
   "display_name": "base",
   "language": "python",
   "name": "python3"
  },
  "language_info": {
   "codemirror_mode": {
    "name": "ipython",
    "version": 3
   },
   "file_extension": ".py",
   "mimetype": "text/x-python",
   "name": "python",
   "nbconvert_exporter": "python",
   "pygments_lexer": "ipython3",
   "version": "3.11.4"
  }
 },
 "nbformat": 4,
 "nbformat_minor": 2
}
