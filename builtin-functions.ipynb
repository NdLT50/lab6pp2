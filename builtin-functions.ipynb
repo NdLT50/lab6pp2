{
 "cells": [
  {
   "cell_type": "code",
   "execution_count": 10,
   "metadata": {},
   "outputs": [
    {
     "name": "stdout",
     "output_type": "stream",
     "text": [
      "[5, 5, 2, 10]\n",
      "500\n"
     ]
    }
   ],
   "source": [
    "from functools import reduce\n",
    "from operator import mul\n",
    "def list_mult(lst):\n",
    "    temp=reduce(mul,a)\n",
    "    print(temp)\n",
    "a=list(map(int,input(\"Enter the elements of a list\").split()))\n",
    "print(a)\n",
    "list_mult(a)\n",
    "\n"
   ]
  },
  {
   "cell_type": "code",
   "execution_count": 11,
   "metadata": {},
   "outputs": [
    {
     "name": "stdout",
     "output_type": "stream",
     "text": [
      "There are 8 upper and 15 lower letters in the string\n"
     ]
    }
   ],
   "source": [
    "def letter_calc(txt):\n",
    "    upper_letters=sum(1 for letter in txt if letter.isupper())\n",
    "    lower_letters=sum(1 for letter in txt if letter.islower())\n",
    "    print(f'There are {upper_letters} upper and {lower_letters} lower letters in the string')\n",
    "some_text=\"This is the EXAMPLE of usage\"\n",
    "letter_calc(some_text)"
   ]
  },
  {
   "cell_type": "code",
   "execution_count": 14,
   "metadata": {},
   "outputs": [
    {
     "name": "stdout",
     "output_type": "stream",
     "text": [
      "the string \"hello\" is not palindrome \n",
      "the string \"amanaplanacanalpanama\" is palindrome \n",
      "the string \"noon\" is palindrome \n"
     ]
    }
   ],
   "source": [
    "def palindrome(txt):\n",
    "    txt=txt.replace(\" \",\"\").lower()\n",
    "    if txt==txt[::-1]:\n",
    "        print(f'the string \"{txt}\" is palindrome ')\n",
    "    else:\n",
    "        print(f'the string \"{txt}\" is not palindrome ')\n",
    "\n",
    "test1=\"Hello\"\n",
    "test2=\"A man a plan a canal Panama\"\n",
    "test3=\"noon\"\n",
    "palindrome(test1)\n",
    "palindrome(test2)\n",
    "palindrome(test3)"
   ]
  },
  {
   "cell_type": "code",
   "execution_count": null,
   "metadata": {},
   "outputs": [],
   "source": []
  },
  {
   "cell_type": "code",
   "execution_count": 28,
   "metadata": {},
   "outputs": [
    {
     "name": "stdout",
     "output_type": "stream",
     "text": [
      "Square root of 25100 after 2123 miliseconds is 158.42979517754858\n"
     ]
    }
   ],
   "source": [
    "import math\n",
    "import time\n",
    "\n",
    "def delayed_sqrt(num,mls):\n",
    "    time.sleep(mls / 1000)\n",
    "    print(f'Square root of {num} after {mls} miliseconds is {math.sqrt(num)}')\n",
    "\n",
    "num=25100\n",
    "miliseconds =2123\n",
    "delayed_sqrt(num,miliseconds)\n"
   ]
  },
  {
   "cell_type": "code",
   "execution_count": 26,
   "metadata": {},
   "outputs": [
    {
     "name": "stdout",
     "output_type": "stream",
     "text": [
      "True\n",
      "False\n"
     ]
    }
   ],
   "source": [
    "def all_true(tpl):\n",
    "    if all(tpl):\n",
    "        return True\n",
    "    else:\n",
    "        return False\n",
    "\n",
    "test1=(1,\"WORD\",True)\n",
    "test2=(0,True)\n",
    "result1=all_true(test1)\n",
    "result2=all_true(test2)\n",
    "print(result1)\n",
    "print(result2)"
   ]
  },
  {
   "cell_type": "code",
   "execution_count": null,
   "metadata": {},
   "outputs": [],
   "source": []
  }
 ],
 "metadata": {
  "kernelspec": {
   "display_name": "base",
   "language": "python",
   "name": "python3"
  },
  "language_info": {
   "codemirror_mode": {
    "name": "ipython",
    "version": 3
   },
   "file_extension": ".py",
   "mimetype": "text/x-python",
   "name": "python",
   "nbconvert_exporter": "python",
   "pygments_lexer": "ipython3",
   "version": "3.11.4"
  }
 },
 "nbformat": 4,
 "nbformat_minor": 2
}
